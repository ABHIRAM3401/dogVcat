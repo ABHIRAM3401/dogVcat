{
 "cells": [
  {
   "cell_type": "code",
   "execution_count": null,
   "metadata": {},
   "outputs": [],
   "source": [
    "'''\n",
    "dont forgot to use the version tags in git after changing the code . we have to use \n",
    "those v tags once we are done with entire code and making some minor updates \n",
    "we need to push those tags separately.\n",
    "\n",
    "'''"
   ]
  },
  {
   "cell_type": "code",
   "execution_count": null,
   "metadata": {},
   "outputs": [],
   "source": [
    "# GPT link : https://chatgpt.com/c/67c31846-7cec-8003-9bae-1f349c1f37c1"
   ]
  },
  {
   "cell_type": "markdown",
   "metadata": {},
   "source": [
    "tensorflow → Main framework for deep learning.\n",
    "\n",
    "🔹 keras → High-level API inside TensorFlow for building neural networks.\n",
    "\n",
    "🔹 Sequential → A linear stack of layers for CNN.\n",
    "\n",
    "🔹 Conv2D, MaxPooling2D, Flatten, Dense, Dropout → Different layers for building CNN.\n",
    "\n",
    "🔹 ImageDataGenerator → Helps load and preprocess images.\n",
    "\n",
    "🔹 numpy → Used for numerical operations.\n",
    "\n",
    "🔹 matplotlib.pyplot → Helps plot training results.\n",
    "\n",
    "🔹 cv2 → OpenCV for image processing (resizing, conversion).\n",
    "\n",
    "🔹 os → Helps in handling file paths."
   ]
  },
  {
   "cell_type": "code",
   "execution_count": 1,
   "metadata": {},
   "outputs": [],
   "source": [
    "import numpy as np\n",
    "import pandas as pd\n",
    "\n",
    "import tensorflow as tf  \n",
    "from tensorflow import keras  \n",
    "from tensorflow.keras.models import Sequential  \n",
    "from tensorflow.keras.layers import Conv2D, MaxPooling2D, Flatten, Dense, Dropout  \n",
    "from tensorflow.keras.preprocessing.image import ImageDataGenerator \n",
    "\n",
    "import matplotlib.pyplot as plt\n",
    "import os\n"
   ]
  },
  {
   "cell_type": "code",
   "execution_count": null,
   "metadata": {},
   "outputs": [],
   "source": []
  },
  {
   "cell_type": "markdown",
   "metadata": {},
   "source": [
    "in \"tensorflow.keras.preprocessing.image\", each word separated by a dot (.) represents a package, module, or submodule in Python.\n",
    "tensorflow → The main TensorFlow package.\n",
    "\n",
    "keras → A submodule inside TensorFlow that provides deep learning APIs.\n",
    "\n",
    "preprocessing → A submodule inside Keras that contains tools for data preprocessing.\n",
    "\n",
    "image → A module inside preprocessing that specifically deals with image data (e.g., ImageDataGenerator, load_img, img_to_array).\n",
    "\n",
    "\n",
    "\n",
    "REASON FOR TARGET SIZE\n",
    "every image in dataset is 512x512\n",
    "\n",
    "Why Does 512x512 Require More GPU?\n",
    "More Pixels → More Computation\n",
    "\n",
    "A 512x512 image has 262,144 pixels, whereas a 224x224 image has only 50,176 pixels.\n",
    "That’s 5x more pixels, meaning 5x more computation per image!\n"
   ]
  },
  {
   "cell_type": "code",
   "execution_count": null,
   "metadata": {},
   "outputs": [
    {
     "name": "stdout",
     "output_type": "stream",
     "text": [
      "Found 800 images belonging to 2 classes.\n",
      "Found 200 images belonging to 2 classes.\n"
     ]
    }
   ],
   "source": [
    "# https://chatgpt.com/c/67d037a5-f280-8003-a91b-60bba6b2af07\n",
    "\n",
    "# need to learn about mixed precision \n",
    "\n",
    "# Define ImageDataGenerator with Augmentation for Training\n",
    "train_datagen = ImageDataGenerator(\n",
    "    rescale=1./255,  \n",
    "    rotation_range=40,       # Rotate images randomly by 40 degrees\n",
    "    width_shift_range=0.2,   # Shift width randomly\n",
    "    height_shift_range=0.2,  # Shift height randomly\n",
    "    shear_range=0.2,         # Shear transformation\n",
    "    zoom_range=0.2,          # Zoom in/out\n",
    "    horizontal_flip=True,    # Flip images horizontally\n",
    "    fill_mode='nearest',     # Fill missing pixels\n",
    "    validation_split=0.2     # 80-20 train-validation split\n",
    ")\n",
    "\n",
    "# ImageDataGenerator for Validation (No Augmentation)\n",
    "val_datagen = ImageDataGenerator(\n",
    "    rescale=1./255,  \n",
    "    validation_split=0.2\n",
    ")\n",
    "\n",
    "\n",
    "\n",
    "\n",
    "# Load Training Images with Augmentation\n",
    "train_generator = train_datagen.flow_from_directory(\n",
    "    \"animals\",  \n",
    "    target_size=(224, 224),  \n",
    "    batch_size=32,  \n",
    "    class_mode=\"binary\",  \n",
    "    subset=\"training\"\n",
    ")\n",
    "\n",
    "# Load Validation Images (No Augmentation)\n",
    "validation_generator = val_datagen.flow_from_directory(\n",
    "    \"animals\",  \n",
    "    target_size=(224, 224),  \n",
    "    batch_size=32,  \n",
    "    class_mode=\"binary\",  \n",
    "    subset=\"validation\"\n",
    ")\n"
   ]
  },
  {
   "cell_type": "code",
   "execution_count": 3,
   "metadata": {},
   "outputs": [
    {
     "name": "stdout",
     "output_type": "stream",
     "text": [
      "{'cat': 0, 'dog': 1}\n"
     ]
    }
   ],
   "source": [
    "print(train_generator.class_indices)"
   ]
  },
  {
   "cell_type": "code",
   "execution_count": null,
   "metadata": {},
   "outputs": [],
   "source": []
  }
 ],
 "metadata": {
  "kernelspec": {
   "display_name": "base",
   "language": "python",
   "name": "python3"
  },
  "language_info": {
   "codemirror_mode": {
    "name": "ipython",
    "version": 3
   },
   "file_extension": ".py",
   "mimetype": "text/x-python",
   "name": "python",
   "nbconvert_exporter": "python",
   "pygments_lexer": "ipython3",
   "version": "3.8.20"
  }
 },
 "nbformat": 4,
 "nbformat_minor": 2
}
