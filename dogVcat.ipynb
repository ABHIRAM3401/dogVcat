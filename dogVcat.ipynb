{
 "cells": [
  {
   "cell_type": "code",
   "execution_count": null,
   "metadata": {},
   "outputs": [],
   "source": [
    "# GPT link : https://chatgpt.com/c/67c31846-7cec-8003-9bae-1f349c1f37c1"
   ]
  },
  {
   "cell_type": "markdown",
   "metadata": {},
   "source": [
    "tensorflow → Main framework for deep learning.\n",
    "\n",
    "🔹 keras → High-level API inside TensorFlow for building neural networks.\n",
    "\n",
    "🔹 Sequential → A linear stack of layers for CNN.\n",
    "\n",
    "🔹 Conv2D, MaxPooling2D, Flatten, Dense, Dropout → Different layers for building CNN.\n",
    "\n",
    "🔹 ImageDataGenerator → Helps load and preprocess images.\n",
    "\n",
    "🔹 numpy → Used for numerical operations.\n",
    "\n",
    "🔹 matplotlib.pyplot → Helps plot training results.\n",
    "\n",
    "🔹 cv2 → OpenCV for image processing (resizing, conversion).\n",
    "\n",
    "🔹 os → Helps in handling file paths."
   ]
  },
  {
   "cell_type": "code",
   "execution_count": null,
   "metadata": {},
   "outputs": [],
   "source": [
    "import numpy as np\n",
    "import pandas as pd\n",
    "\n",
    "import tensorflow as tf  \n",
    "from tensorflow import keras  \n",
    "from tensorflow.keras.models import Sequential  \n",
    "from tensorflow.keras.layers import Conv2D, MaxPooling2D, Flatten, Dense, Dropout  \n",
    "from tensorflow.keras.preprocessing.image import ImageDataGenerator \n",
    "\n",
    "import matplotlib.pyplot as plt\n",
    "import os\n"
   ]
  },
  {
   "cell_type": "code",
   "execution_count": null,
   "metadata": {},
   "outputs": [],
   "source": []
  }
 ],
 "metadata": {
  "kernelspec": {
   "display_name": "Python 3",
   "language": "python",
   "name": "python3"
  },
  "language_info": {
   "codemirror_mode": {
    "name": "ipython",
    "version": 3
   },
   "file_extension": ".py",
   "mimetype": "text/x-python",
   "name": "python",
   "nbconvert_exporter": "python",
   "pygments_lexer": "ipython3",
   "version": "3.8.20"
  }
 },
 "nbformat": 4,
 "nbformat_minor": 2
}
