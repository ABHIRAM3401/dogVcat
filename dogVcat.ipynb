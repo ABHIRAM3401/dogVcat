{
 "cells": [
  {
   "cell_type": "code",
   "execution_count": null,
   "metadata": {},
   "outputs": [],
   "source": [
    "'''\n",
    "dont forgot to use the version tags in git after changing the code . we have to use \n",
    "those v tags once we are done with entire code and making some minor updates \n",
    "we need to push those tags separately.\n",
    "\n",
    "'''"
   ]
  },
  {
   "cell_type": "code",
   "execution_count": null,
   "metadata": {},
   "outputs": [],
   "source": [
    "# GPT link : https://chatgpt.com/c/67c31846-7cec-8003-9bae-1f349c1f37c1"
   ]
  },
  {
   "cell_type": "markdown",
   "metadata": {},
   "source": [
    "tensorflow → Main framework for deep learning.\n",
    "\n",
    "🔹 keras → High-level API inside TensorFlow for building neural networks.\n",
    "\n",
    "🔹 Sequential → A linear stack of layers for CNN.\n",
    "\n",
    "🔹 Conv2D, MaxPooling2D, Flatten, Dense, Dropout → Different layers for building CNN.\n",
    "\n",
    "🔹 ImageDataGenerator → Helps load and preprocess images.\n",
    "\n",
    "🔹 numpy → Used for numerical operations.\n",
    "\n",
    "🔹 matplotlib.pyplot → Helps plot training results.\n",
    "\n",
    "🔹 cv2 → OpenCV for image processing (resizing, conversion).\n",
    "\n",
    "🔹 os → Helps in handling file paths."
   ]
  },
  {
   "cell_type": "code",
   "execution_count": null,
   "metadata": {},
   "outputs": [],
   "source": [
    "import numpy as np\n",
    "import pandas as pd\n",
    "\n",
    "import tensorflow as tf  \n",
    "from tensorflow import keras  \n",
    "from tensorflow.keras.models import Sequential  \n",
    "from tensorflow.keras.layers import Conv2D, MaxPooling2D, Flatten, Dense, Dropout  \n",
    "from tensorflow.keras.preprocessing.image import ImageDataGenerator \n",
    "\n",
    "import matplotlib.pyplot as plt\n",
    "import os\n"
   ]
  },
  {
   "cell_type": "code",
   "execution_count": null,
   "metadata": {},
   "outputs": [],
   "source": []
  },
  {
   "cell_type": "markdown",
   "metadata": {},
   "source": [
    "in tensorflow.keras.preprocessing.image, each word separated by a dot (.) represents a package, module, or submodule in Python.\n",
    "tensorflow → The main TensorFlow package.\n",
    "\n",
    "keras → A submodule inside TensorFlow that provides deep learning APIs.\n",
    "\n",
    "preprocessing → A submodule inside Keras that contains tools for data preprocessing.\n",
    "\n",
    "image → A module inside preprocessing that specifically deals with image data (e.g., ImageDataGenerator, load_img, img_to_array).\n"
   ]
  },
  {
   "cell_type": "code",
   "execution_count": null,
   "metadata": {},
   "outputs": [],
   "source": [
    "# https://chatgpt.com/c/67d037a5-f280-8003-a91b-60bba6b2af07\n",
    "\n",
    "# Define image generator with augmentation\n",
    "datagen = ImageDataGenerator(\n",
    "    rescale=1./255,  # Normalize pixel values (0 to 1)\n",
    "    validation_split=0.2  # Splitting dataset (80% train, 20% validation)\n",
    ")\n",
    "\n",
    "# Load training images\n",
    "train_generator = datagen.flow_from_directory(\n",
    "    \"animals\",  # Path to the main folder\n",
    "    target_size=(150, 150),  # Resize all images to 150x150\n",
    "    batch_size=32,  # Number of images per batch\n",
    "    class_mode=\"binary\",  # Since it's a binary classification (Dog vs Cat)\n",
    "    subset=\"training\"  # Training data\n",
    ")\n",
    "\n",
    "# Load validation images\n",
    "validation_generator = datagen.flow_from_directory(\n",
    "    \"animals\",  # Same path\n",
    "    target_size=(150, 150),\n",
    "    batch_size=32,\n",
    "    class_mode=\"binary\",\n",
    "    subset=\"validation\"  # Validation data\n",
    ")\n"
   ]
  },
  {
   "cell_type": "code",
   "execution_count": null,
   "metadata": {},
   "outputs": [],
   "source": []
  }
 ],
 "metadata": {
  "kernelspec": {
   "display_name": "Python 3",
   "language": "python",
   "name": "python3"
  },
  "language_info": {
   "codemirror_mode": {
    "name": "ipython",
    "version": 3
   },
   "file_extension": ".py",
   "mimetype": "text/x-python",
   "name": "python",
   "nbconvert_exporter": "python",
   "pygments_lexer": "ipython3",
   "version": "3.8.20"
  }
 },
 "nbformat": 4,
 "nbformat_minor": 2
}
